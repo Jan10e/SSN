{
 "cells": [
  {
   "cell_type": "code",
   "execution_count": 89,
   "metadata": {
    "ExecuteTime": {
     "end_time": "2018-01-18T17:07:08.439000-05:00",
     "start_time": "2018-01-18T22:07:08.433Z"
    }
   },
   "outputs": [
    {
     "data": {
      "text/plain": [
       "ssn_ode (generic function with 1 method)"
      ]
     },
     "execution_count": 89,
     "metadata": {},
     "output_type": "execute_result"
    }
   ],
   "source": [
    "using DifferentialEquations\n",
    "using ParameterizedFunctions\n",
    "using Plots\n",
    "\n",
    "type SSNParam\n",
    "    w\n",
    "    h\n",
    "    τ\n",
    "    V_rest\n",
    "    k\n",
    "    n\n",
    "end\n",
    "\n",
    "ReLU(x) = x < 0.0 ? 0.0 : x\n",
    "\n",
    "function ssn_ode(t, u, param, du)\n",
    "    w = param.w\n",
    "    h = param.h\n",
    "    τ = param.τ\n",
    "    V_rest = param.V_rest\n",
    "    k = param.k\n",
    "    n = param.n\n",
    "    du .= ((- u .+ V_rest) .+ w * (k .* ReLU.(u .- V_rest).^n) .+ h) ./ τ\n",
    "end"
   ]
  },
  {
   "cell_type": "code",
   "execution_count": 90,
   "metadata": {
    "ExecuteTime": {
     "end_time": "2018-01-18T17:07:09.126000-05:00",
     "start_time": "2018-01-18T22:07:09.122Z"
    }
   },
   "outputs": [
    {
     "data": {
      "text/plain": [
       "2×2 Array{Float64,2}:\n",
       " 1.25  -0.65\n",
       " 1.2   -0.5 "
      ]
     },
     "execution_count": 90,
     "metadata": {},
     "output_type": "execute_result"
    }
   ],
   "source": [
    "w = [1.25 -.65\n",
    "    1.2 -0.5]"
   ]
  },
  {
   "cell_type": "code",
   "execution_count": 91,
   "metadata": {
    "ExecuteTime": {
     "end_time": "2018-01-18T17:07:09.596000-05:00",
     "start_time": "2018-01-18T22:07:09.593Z"
    }
   },
   "outputs": [
    {
     "data": {
      "text/plain": [
       "2-element Array{Float64,1}:\n",
       " 0.2\n",
       " 0.1"
      ]
     },
     "execution_count": 91,
     "metadata": {},
     "output_type": "execute_result"
    }
   ],
   "source": [
    "#τ = [1, 0.1] #This gives instable behavior\n",
    "τ = [0.2, 0.1]"
   ]
  },
  {
   "cell_type": "code",
   "execution_count": 92,
   "metadata": {
    "ExecuteTime": {
     "end_time": "2018-01-18T17:07:11.157000-05:00",
     "start_time": "2018-01-18T22:07:11.153Z"
    }
   },
   "outputs": [
    {
     "data": {
      "text/plain": [
       "2-element Array{Float64,1}:\n",
       " 0.0\n",
       " 0.0"
      ]
     },
     "execution_count": 92,
     "metadata": {},
     "output_type": "execute_result"
    }
   ],
   "source": [
    "h = [0.0, 0.0]"
   ]
  },
  {
   "cell_type": "code",
   "execution_count": 93,
   "metadata": {
    "ExecuteTime": {
     "end_time": "2018-01-18T17:07:11.660000-05:00",
     "start_time": "2018-01-18T22:07:11.650Z"
    }
   },
   "outputs": [
    {
     "data": {
      "text/plain": [
       "(::ParameterizedFunction) (generic function with 2 methods)"
      ]
     },
     "execution_count": 93,
     "metadata": {},
     "output_type": "execute_result"
    }
   ],
   "source": [
    "ssn = ParameterizedFunction(ssn_ode, SSNParam(\n",
    "    w,\n",
    "    h,    \n",
    "    τ,\n",
    "    -70.0,   # V_rest\n",
    "    0.3,  # k\n",
    "    2   # n\n",
    "))"
   ]
  },
  {
   "cell_type": "code",
   "execution_count": 94,
   "metadata": {
    "ExecuteTime": {
     "end_time": "2018-01-18T17:07:13.119000-05:00",
     "start_time": "2018-01-18T22:07:13.115Z"
    }
   },
   "outputs": [
    {
     "data": {
      "text/plain": [
       "DiffEqBase.ODEProblem with uType Array{Float64,1} and tType Float64. In-place: true\n",
       "timespan: (0.0, 2.0)\n",
       "u0: [-80.0, 60.0]"
      ]
     },
     "execution_count": 94,
     "metadata": {},
     "output_type": "execute_result"
    }
   ],
   "source": [
    "#ode = ODEProblem(ssn, ones(2), (0.0, 5.0))\n",
    "ode = ODEProblem(ssn, [-80.0, 60.0], (0.0, 2.0))"
   ]
  },
  {
   "cell_type": "code",
   "execution_count": 95,
   "metadata": {
    "ExecuteTime": {
     "end_time": "2018-01-18T17:07:14.469000-05:00",
     "start_time": "2018-01-18T22:07:13.688Z"
    }
   },
   "outputs": [],
   "source": [
    "sol = solve(ode, verbose=true);"
   ]
  },
  {
   "cell_type": "code",
   "execution_count": 96,
   "metadata": {
    "ExecuteTime": {
     "end_time": "2018-01-18T17:07:15.489000-05:00",
     "start_time": "2018-01-18T22:07:14.947Z"
    },
    "scrolled": true
   },
   "outputs": [
    {
     "data": {
      "text/html": [
       "<img src=\"data:image/png;base64,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\" />"
      ]
     },
     "execution_count": 96,
     "metadata": {},
     "output_type": "execute_result"
    }
   ],
   "source": [
    "plot(sol, vars=[1, 2])"
   ]
  },
  {
   "cell_type": "code",
   "execution_count": null,
   "metadata": {
    "ExecuteTime": {
     "end_time": "2018-01-18T16:32:46.887000-05:00",
     "start_time": "2018-01-18T21:32:46.872Z"
    }
   },
   "outputs": [],
   "source": [
    "workspace() "
   ]
  },
  {
   "cell_type": "code",
   "execution_count": null,
   "metadata": {},
   "outputs": [],
   "source": []
  }
 ],
 "metadata": {
  "kernelspec": {
   "display_name": "Julia 0.6.1",
   "language": "julia",
   "name": "julia-0.6"
  },
  "language_info": {
   "file_extension": ".jl",
   "mimetype": "application/julia",
   "name": "julia",
   "version": "0.6.1"
  },
  "toc": {
   "nav_menu": {},
   "number_sections": true,
   "sideBar": true,
   "skip_h1_title": false,
   "toc_cell": false,
   "toc_position": {},
   "toc_section_display": "block",
   "toc_window_display": false
  }
 },
 "nbformat": 4,
 "nbformat_minor": 2
}
