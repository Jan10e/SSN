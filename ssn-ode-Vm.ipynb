{
 "cells": [
  {
   "cell_type": "code",
   "execution_count": 1,
   "metadata": {
    "ExecuteTime": {
     "end_time": "2017-12-14T11:49:50.894000-05:00",
     "start_time": "2017-12-14T16:49:45.387Z"
    }
   },
   "outputs": [
    {
     "data": {
      "text/plain": [
       "ssn_ode (generic function with 1 method)"
      ]
     },
     "execution_count": 1,
     "metadata": {},
     "output_type": "execute_result"
    }
   ],
   "source": [
    "using DifferentialEquations\n",
    "using ParameterizedFunctions\n",
    "\n",
    "type SSNParam\n",
    "    w\n",
    "    h\n",
    "    τ\n",
    "    V_rest\n",
    "    k\n",
    "    n\n",
    "end\n",
    "\n",
    "ReLU(x) = x < 0.0 ? 0.0 : x\n",
    "\n",
    "function ssn_ode(t, u, param, du)\n",
    "    w = param.w\n",
    "    h = param.h\n",
    "    τ = param.τ\n",
    "    V_rest = param.V_rest\n",
    "    n = param.n\n",
    "    k = param.k\n",
    "    du .= ((- u .+ -V_rest) .+ w * (k .* ReLU.(u .- V_rest).^n) .+ h) ./ τ\n",
    "end"
   ]
  },
  {
   "cell_type": "code",
   "execution_count": 2,
   "metadata": {
    "ExecuteTime": {
     "end_time": "2017-12-14T11:50:07.503000-05:00",
     "start_time": "2017-12-14T16:50:06.123Z"
    }
   },
   "outputs": [
    {
     "data": {
      "text/plain": [
       "2×2 Array{Int64,2}:\n",
       " 1  -3\n",
       " 1  -1"
      ]
     },
     "execution_count": 2,
     "metadata": {},
     "output_type": "execute_result"
    }
   ],
   "source": [
    "w = [1 -3\n",
    "     1 -1]"
   ]
  },
  {
   "cell_type": "code",
   "execution_count": 3,
   "metadata": {
    "ExecuteTime": {
     "end_time": "2017-12-14T11:50:08.777000-05:00",
     "start_time": "2017-12-14T16:50:08.216Z"
    }
   },
   "outputs": [
    {
     "data": {
      "text/plain": [
       "2-element Array{Float64,1}:\n",
       " 1.0\n",
       " 0.1"
      ]
     },
     "execution_count": 3,
     "metadata": {},
     "output_type": "execute_result"
    }
   ],
   "source": [
    "τ = [1, 0.1]"
   ]
  },
  {
   "cell_type": "code",
   "execution_count": 4,
   "metadata": {
    "ExecuteTime": {
     "end_time": "2017-12-14T11:50:09.773000-05:00",
     "start_time": "2017-12-14T16:50:09.771Z"
    }
   },
   "outputs": [
    {
     "data": {
      "text/plain": [
       "2-element Array{Float64,1}:\n",
       " 0.1\n",
       " 0.1"
      ]
     },
     "execution_count": 4,
     "metadata": {},
     "output_type": "execute_result"
    }
   ],
   "source": [
    "h = [0.1, 0.1]"
   ]
  },
  {
   "cell_type": "code",
   "execution_count": 5,
   "metadata": {
    "ExecuteTime": {
     "end_time": "2017-12-14T11:50:11.594000-05:00",
     "start_time": "2017-12-14T16:50:11.503Z"
    }
   },
   "outputs": [
    {
     "data": {
      "text/plain": [
       "(::ParameterizedFunction) (generic function with 2 methods)"
      ]
     },
     "execution_count": 5,
     "metadata": {},
     "output_type": "execute_result"
    }
   ],
   "source": [
    "ssn = ParameterizedFunction(ssn_ode, SSNParam(\n",
    "    w,\n",
    "    τ,\n",
    "    h,\n",
    "    -70,   # V_rest\n",
    "    0.01,  # k\n",
    "    2.2,   # n\n",
    "))"
   ]
  },
  {
   "cell_type": "code",
   "execution_count": 6,
   "metadata": {
    "ExecuteTime": {
     "end_time": "2017-12-14T11:50:12.893000-05:00",
     "start_time": "2017-12-14T16:50:12.621Z"
    }
   },
   "outputs": [
    {
     "data": {
      "text/plain": [
       "DiffEqBase.ODEProblem with uType Array{Float64,1} and tType Float64. In-place: true\n",
       "timespan: (0.0, 5.0)\n",
       "u0: [1.0, 1.0]"
      ]
     },
     "execution_count": 6,
     "metadata": {},
     "output_type": "execute_result"
    }
   ],
   "source": [
    "ode = ODEProblem(ssn, ones(2), (0.0, 5.0))"
   ]
  },
  {
   "cell_type": "code",
   "execution_count": 7,
   "metadata": {
    "ExecuteTime": {
     "end_time": "2017-12-14T11:50:20.794000-05:00",
     "start_time": "2017-12-14T16:50:13.868Z"
    }
   },
   "outputs": [],
   "source": [
    "sol = solve(ode);"
   ]
  },
  {
   "cell_type": "code",
   "execution_count": 8,
   "metadata": {
    "ExecuteTime": {
     "end_time": "2017-12-14T11:50:43.376000-05:00",
     "start_time": "2017-12-14T16:50:31.135Z"
    }
   },
   "outputs": [],
   "source": [
    "using Plots"
   ]
  },
  {
   "cell_type": "code",
   "execution_count": 9,
   "metadata": {
    "ExecuteTime": {
     "end_time": "2017-12-14T11:51:11.283000-05:00",
     "start_time": "2017-12-14T16:50:45.129Z"
    }
   },
   "outputs": [
    {
     "data": {
      "text/html": [
       "<img src=\"data:image/png;base64,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\" />"
      ]
     },
     "execution_count": 9,
     "metadata": {},
     "output_type": "execute_result"
    }
   ],
   "source": [
    "plot(sol, vars=[1, 2])"
   ]
  },
  {
   "cell_type": "code",
   "execution_count": null,
   "metadata": {
    "ExecuteTime": {
     "end_time": "2017-12-14T11:48:11.160000-05:00",
     "start_time": "2017-12-14T16:48:11.145Z"
    }
   },
   "outputs": [],
   "source": [
    "workspace() "
   ]
  },
  {
   "cell_type": "code",
   "execution_count": null,
   "metadata": {},
   "outputs": [],
   "source": []
  }
 ],
 "metadata": {
  "kernelspec": {
   "display_name": "Julia 0.6.1",
   "language": "julia",
   "name": "julia-0.6"
  },
  "language_info": {
   "file_extension": ".jl",
   "mimetype": "application/julia",
   "name": "julia",
   "version": "0.6.1"
  },
  "toc": {
   "nav_menu": {},
   "number_sections": true,
   "sideBar": true,
   "skip_h1_title": false,
   "toc_cell": false,
   "toc_position": {},
   "toc_section_display": "block",
   "toc_window_display": false
  }
 },
 "nbformat": 4,
 "nbformat_minor": 2
}
