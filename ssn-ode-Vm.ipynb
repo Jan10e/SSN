{
 "cells": [
  {
   "cell_type": "code",
   "execution_count": 1,
   "metadata": {
    "ExecuteTime": {
     "end_time": "2017-12-14T18:37:41.714000-05:00",
     "start_time": "2017-12-14T23:37:36.092Z"
    }
   },
   "outputs": [
    {
     "data": {
      "text/plain": [
       "ssn_ode (generic function with 1 method)"
      ]
     },
     "execution_count": 1,
     "metadata": {},
     "output_type": "execute_result"
    }
   ],
   "source": [
    "using DifferentialEquations\n",
    "using ParameterizedFunctions\n",
    "\n",
    "type SSNParam\n",
    "    w\n",
    "    h\n",
    "    τ\n",
    "    V_rest\n",
    "    k\n",
    "    n\n",
    "end\n",
    "\n",
    "ReLU(x) = x < 0.0 ? 0.0 : x\n",
    "\n",
    "function ssn_ode(t, u, param, du)\n",
    "    w = param.w\n",
    "    h = param.h\n",
    "    τ = param.τ\n",
    "    V_rest = param.V_rest\n",
    "    n = param.n\n",
    "    k = param.k\n",
    "    du .= ((- u .+ V_rest) .+ w * (k .* ReLU.(u .- V_rest).^n) .+ h) ./ τ\n",
    "end"
   ]
  },
  {
   "cell_type": "code",
   "execution_count": 2,
   "metadata": {
    "ExecuteTime": {
     "end_time": "2017-12-14T18:37:44.160000-05:00",
     "start_time": "2017-12-14T23:37:42.771Z"
    }
   },
   "outputs": [
    {
     "data": {
      "text/plain": [
       "2×2 Array{Int64,2}:\n",
       " 1  -3\n",
       " 1  -1"
      ]
     },
     "execution_count": 2,
     "metadata": {},
     "output_type": "execute_result"
    }
   ],
   "source": [
    "w = [1 -3\n",
    "     1 -1]"
   ]
  },
  {
   "cell_type": "code",
   "execution_count": 3,
   "metadata": {
    "ExecuteTime": {
     "end_time": "2017-12-14T18:37:45.512000-05:00",
     "start_time": "2017-12-14T23:37:44.959Z"
    }
   },
   "outputs": [
    {
     "data": {
      "text/plain": [
       "2-element Array{Float64,1}:\n",
       " 1.0\n",
       " 0.1"
      ]
     },
     "execution_count": 3,
     "metadata": {},
     "output_type": "execute_result"
    }
   ],
   "source": [
    "τ = [1, 0.1]"
   ]
  },
  {
   "cell_type": "code",
   "execution_count": 4,
   "metadata": {
    "ExecuteTime": {
     "end_time": "2017-12-14T18:37:47.220000-05:00",
     "start_time": "2017-12-14T23:37:47.217Z"
    }
   },
   "outputs": [
    {
     "data": {
      "text/plain": [
       "2-element Array{Float64,1}:\n",
       " 0.1\n",
       " 0.1"
      ]
     },
     "execution_count": 4,
     "metadata": {},
     "output_type": "execute_result"
    }
   ],
   "source": [
    "h = [0.1, 0.1]"
   ]
  },
  {
   "cell_type": "code",
   "execution_count": 5,
   "metadata": {
    "ExecuteTime": {
     "end_time": "2017-12-14T18:37:48.599000-05:00",
     "start_time": "2017-12-14T23:37:48.511Z"
    }
   },
   "outputs": [
    {
     "data": {
      "text/plain": [
       "(::ParameterizedFunction) (generic function with 2 methods)"
      ]
     },
     "execution_count": 5,
     "metadata": {},
     "output_type": "execute_result"
    }
   ],
   "source": [
    "ssn = ParameterizedFunction(ssn_ode, SSNParam(\n",
    "    w,\n",
    "    τ,\n",
    "    h,\n",
    "    -70,   # V_rest\n",
    "    0.01,  # k\n",
    "    2.2,   # n\n",
    "))"
   ]
  },
  {
   "cell_type": "code",
   "execution_count": 6,
   "metadata": {
    "ExecuteTime": {
     "end_time": "2017-12-14T18:37:50.984000-05:00",
     "start_time": "2017-12-14T23:37:50.704Z"
    }
   },
   "outputs": [
    {
     "data": {
      "text/plain": [
       "DiffEqBase.ODEProblem with uType Array{Float64,1} and tType Float64. In-place: true\n",
       "timespan: (0.0, 5.0)\n",
       "u0: [1.0, 1.0]"
      ]
     },
     "execution_count": 6,
     "metadata": {},
     "output_type": "execute_result"
    }
   ],
   "source": [
    "ode = ODEProblem(ssn, ones(2), (0.0, 5.0))"
   ]
  },
  {
   "cell_type": "code",
   "execution_count": 7,
   "metadata": {
    "ExecuteTime": {
     "end_time": "2017-12-14T18:37:58.303000-05:00",
     "start_time": "2017-12-14T23:37:51.572Z"
    }
   },
   "outputs": [],
   "source": [
    "sol = solve(ode);"
   ]
  },
  {
   "cell_type": "code",
   "execution_count": 8,
   "metadata": {
    "ExecuteTime": {
     "end_time": "2017-12-14T18:38:11.490000-05:00",
     "start_time": "2017-12-14T23:37:59.448Z"
    }
   },
   "outputs": [],
   "source": [
    "using Plots"
   ]
  },
  {
   "cell_type": "code",
   "execution_count": 9,
   "metadata": {
    "ExecuteTime": {
     "end_time": "2017-12-14T18:38:40.957000-05:00",
     "start_time": "2017-12-14T23:38:14.983Z"
    }
   },
   "outputs": [
    {
     "data": {
      "text/html": [
       "<img src=\"data:image/png;base64,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\" />"
      ]
     },
     "execution_count": 9,
     "metadata": {},
     "output_type": "execute_result"
    }
   ],
   "source": [
    "plot(sol, vars=[1, 2])"
   ]
  },
  {
   "cell_type": "code",
   "execution_count": null,
   "metadata": {
    "ExecuteTime": {
     "end_time": "2017-12-14T18:37:10.773000-05:00",
     "start_time": "2017-12-14T23:37:10.749Z"
    }
   },
   "outputs": [],
   "source": [
    "workspace() "
   ]
  },
  {
   "cell_type": "code",
   "execution_count": null,
   "metadata": {},
   "outputs": [],
   "source": []
  }
 ],
 "metadata": {
  "kernelspec": {
   "display_name": "Julia 0.6.1",
   "language": "julia",
   "name": "julia-0.6"
  },
  "language_info": {
   "file_extension": ".jl",
   "mimetype": "application/julia",
   "name": "julia",
   "version": "0.6.1"
  },
  "toc": {
   "nav_menu": {},
   "number_sections": true,
   "sideBar": true,
   "skip_h1_title": false,
   "toc_cell": false,
   "toc_position": {},
   "toc_section_display": "block",
   "toc_window_display": false
  }
 },
 "nbformat": 4,
 "nbformat_minor": 2
}
