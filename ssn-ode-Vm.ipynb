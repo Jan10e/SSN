{
 "cells": [
  {
   "cell_type": "code",
   "execution_count": 1,
   "metadata": {
    "ExecuteTime": {
     "end_time": "2017-12-15T16:38:55.773000-05:00",
     "start_time": "2017-12-15T15:38:50.344Z"
    }
   },
   "outputs": [
    {
     "data": {
      "text/plain": [
       "ssn_ode (generic function with 1 method)"
      ]
     },
     "execution_count": 1,
     "metadata": {},
     "output_type": "execute_result"
    }
   ],
   "source": [
    "using DifferentialEquations\n",
    "using ParameterizedFunctions\n",
    "\n",
    "type SSNParam\n",
    "    w\n",
    "    h\n",
    "    τ\n",
    "    V_rest\n",
    "    k\n",
    "    n\n",
    "end\n",
    "\n",
    "ReLU(x) = x < 0.0 ? 0.0 : x\n",
    "\n",
    "function ssn_ode(t, u, param, du)\n",
    "    w = param.w\n",
    "    h = param.h\n",
    "    τ = param.τ\n",
    "    V_rest = param.V_rest\n",
    "    n = param.n\n",
    "    k = param.k\n",
    "    du .= ((- u .+ V_rest) .+ w * (k .* ReLU.(u .- V_rest).^n) .+ h) ./ τ\n",
    "end"
   ]
  },
  {
   "cell_type": "code",
   "execution_count": 14,
   "metadata": {
    "ExecuteTime": {
     "end_time": "2017-12-15T16:40:04.390000-05:00",
     "start_time": "2017-12-15T15:40:03.863Z"
    }
   },
   "outputs": [
    {
     "data": {
      "text/plain": [
       "2×2 Array{Float64,2}:\n",
       " 1.25  -0.65\n",
       " 1.2   -0.5 "
      ]
     },
     "execution_count": 14,
     "metadata": {},
     "output_type": "execute_result"
    }
   ],
   "source": [
    "w = [1.25 -0.65\n",
    "    1.2  -0.5]"
   ]
  },
  {
   "cell_type": "code",
   "execution_count": 15,
   "metadata": {
    "ExecuteTime": {
     "end_time": "2017-12-15T16:40:05.707000-05:00",
     "start_time": "2017-12-15T15:40:05.444Z"
    }
   },
   "outputs": [
    {
     "data": {
      "text/plain": [
       "2-element Array{Float64,1}:\n",
       " 0.2\n",
       " 0.1"
      ]
     },
     "execution_count": 15,
     "metadata": {},
     "output_type": "execute_result"
    }
   ],
   "source": [
    "#τ = [1, 0.1] #This gives instable behavior\n",
    "τ = [0.2, 0.1]"
   ]
  },
  {
   "cell_type": "code",
   "execution_count": 16,
   "metadata": {
    "ExecuteTime": {
     "end_time": "2017-12-15T16:40:06.212000-05:00",
     "start_time": "2017-12-15T15:40:06.209Z"
    }
   },
   "outputs": [
    {
     "data": {
      "text/plain": [
       "2-element Array{Float64,1}:\n",
       " 0.1\n",
       " 0.1"
      ]
     },
     "execution_count": 16,
     "metadata": {},
     "output_type": "execute_result"
    }
   ],
   "source": [
    "h = [0.1, 0.1]"
   ]
  },
  {
   "cell_type": "code",
   "execution_count": 17,
   "metadata": {
    "ExecuteTime": {
     "end_time": "2017-12-15T16:40:07.042000-05:00",
     "start_time": "2017-12-15T15:40:06.961Z"
    }
   },
   "outputs": [
    {
     "data": {
      "text/plain": [
       "(::ParameterizedFunction) (generic function with 2 methods)"
      ]
     },
     "execution_count": 17,
     "metadata": {},
     "output_type": "execute_result"
    }
   ],
   "source": [
    "ssn = ParameterizedFunction(ssn_ode, SSNParam(\n",
    "    w,\n",
    "    τ,\n",
    "    h,\n",
    "    -70,   # V_rest\n",
    "    0.3,  # k\n",
    "    2,   # n\n",
    "))"
   ]
  },
  {
   "cell_type": "code",
   "execution_count": 18,
   "metadata": {
    "ExecuteTime": {
     "end_time": "2017-12-15T16:40:09.176000-05:00",
     "start_time": "2017-12-15T15:40:08.926Z"
    }
   },
   "outputs": [
    {
     "data": {
      "text/plain": [
       "DiffEqBase.ODEProblem with uType Array{Float64,1} and tType Float64. In-place: true\n",
       "timespan: (0.0, 5.0)\n",
       "u0: [-80.0, 60.0]"
      ]
     },
     "execution_count": 18,
     "metadata": {},
     "output_type": "execute_result"
    }
   ],
   "source": [
    "#ode = ODEProblem(ssn, ones(2), (0.0, 5.0))\n",
    "ode = ODEProblem(ssn, [-80.0, 60.0], (0.0, 5.0))"
   ]
  },
  {
   "cell_type": "code",
   "execution_count": 19,
   "metadata": {
    "ExecuteTime": {
     "end_time": "2017-12-15T16:40:16.544000-05:00",
     "start_time": "2017-12-15T15:40:11.241Z"
    }
   },
   "outputs": [],
   "source": [
    "sol = solve(ode);"
   ]
  },
  {
   "cell_type": "code",
   "execution_count": 20,
   "metadata": {
    "ExecuteTime": {
     "end_time": "2017-12-15T16:40:18.264000-05:00",
     "start_time": "2017-12-15T15:40:18.262Z"
    }
   },
   "outputs": [],
   "source": [
    "using Plots"
   ]
  },
  {
   "cell_type": "code",
   "execution_count": 21,
   "metadata": {
    "ExecuteTime": {
     "end_time": "2017-12-15T16:40:50.473000-05:00",
     "start_time": "2017-12-15T15:40:25.437Z"
    },
    "scrolled": true
   },
   "outputs": [
    {
     "data": {
      "text/html": [
       "<img src=\"data:image/png;base64,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\" />"
      ]
     },
     "execution_count": 21,
     "metadata": {},
     "output_type": "execute_result"
    }
   ],
   "source": [
    "plot(sol, vars=[1, 2])"
   ]
  },
  {
   "cell_type": "code",
   "execution_count": null,
   "metadata": {
    "ExecuteTime": {
     "end_time": "2017-12-14T19:03:58.799000-05:00",
     "start_time": "2017-12-15T00:03:58.399Z"
    }
   },
   "outputs": [],
   "source": [
    "workspace() "
   ]
  },
  {
   "cell_type": "code",
   "execution_count": null,
   "metadata": {},
   "outputs": [],
   "source": []
  }
 ],
 "metadata": {
  "kernelspec": {
   "display_name": "Julia 0.6.1",
   "language": "julia",
   "name": "julia-0.6"
  },
  "language_info": {
   "file_extension": ".jl",
   "mimetype": "application/julia",
   "name": "julia",
   "version": "0.6.1"
  },
  "toc": {
   "nav_menu": {},
   "number_sections": true,
   "sideBar": true,
   "skip_h1_title": false,
   "toc_cell": false,
   "toc_position": {},
   "toc_section_display": "block",
   "toc_window_display": false
  }
 },
 "nbformat": 4,
 "nbformat_minor": 2
}
