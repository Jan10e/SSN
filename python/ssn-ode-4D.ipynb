{
 "cells": [
  {
   "cell_type": "code",
   "execution_count": 1,
   "metadata": {
    "ExecuteTime": {
     "end_time": "2018-01-29T14:02:06.455000-05:00",
     "start_time": "2018-01-29T19:01:47.906Z"
    }
   },
   "outputs": [
    {
     "data": {
      "text/plain": [
       "ssn_ode (generic function with 1 method)"
      ]
     },
     "execution_count": 1,
     "metadata": {},
     "output_type": "execute_result"
    }
   ],
   "source": [
    "using DifferentialEquations\n",
    "using ParameterizedFunctions\n",
    "using Plots\n",
    "\n",
    "type SSNParam\n",
    "    w\n",
    "    h\n",
    "    τ\n",
    "    V_rest\n",
    "    k\n",
    "    n\n",
    "end\n",
    "\n",
    "ReLU(x) = x < 0.0 ? 0.0 : x\n",
    "\n",
    "function ssn_ode(t, u, param, du)\n",
    "    w = param.w\n",
    "    h = param.h\n",
    "    τ = param.τ\n",
    "    V_rest = param.V_rest\n",
    "    k = param.k\n",
    "    n = param.n\n",
    "    du .= ((- u .+ V_rest) .+ w * (k .* ReLU.(u .- V_rest).^n) .+ h) ./ τ\n",
    "end"
   ]
  },
  {
   "cell_type": "code",
   "execution_count": 30,
   "metadata": {
    "ExecuteTime": {
     "end_time": "2018-01-30T10:41:27.854000-05:00",
     "start_time": "2018-01-30T15:41:27.849Z"
    }
   },
   "outputs": [
    {
     "data": {
      "text/plain": [
       "4×4 Array{Float64,2}:\n",
       " 0.017   -0.956  -0.045  -0.512\n",
       " 0.8535  -0.99   -0.09   -0.307\n",
       " 2.104   -0.184   0.0    -0.734\n",
       " 1.285    0.0    -0.14    0.0  "
      ]
     },
     "execution_count": 30,
     "metadata": {},
     "output_type": "execute_result"
    }
   ],
   "source": [
    "w = [.017 -.956 -.045 -.512\n",
    "    .8535 -.99 -.09 -.307\n",
    "    2.104 -.184 0 -.734\n",
    "    1.285 0 -.14 0]"
   ]
  },
  {
   "cell_type": "code",
   "execution_count": 3,
   "metadata": {
    "ExecuteTime": {
     "end_time": "2018-01-29T14:04:11.399000-05:00",
     "start_time": "2018-01-29T19:04:10.911Z"
    }
   },
   "outputs": [
    {
     "data": {
      "text/plain": [
       "4-element Array{Float64,1}:\n",
       " 0.02\n",
       " 0.01\n",
       " 0.01\n",
       " 0.01"
      ]
     },
     "execution_count": 3,
     "metadata": {},
     "output_type": "execute_result"
    }
   ],
   "source": [
    "τ = [0.02, 0.01, 0.01, 0.01]"
   ]
  },
  {
   "cell_type": "code",
   "execution_count": 4,
   "metadata": {
    "ExecuteTime": {
     "end_time": "2018-01-29T14:04:13.676000-05:00",
     "start_time": "2018-01-29T19:04:13.672Z"
    }
   },
   "outputs": [
    {
     "data": {
      "text/plain": [
       "4-element Array{Float64,1}:\n",
       " 0.0\n",
       " 0.0\n",
       " 0.0\n",
       " 0.0"
      ]
     },
     "execution_count": 4,
     "metadata": {},
     "output_type": "execute_result"
    }
   ],
   "source": [
    "h = [0.0, 0.0, 0.0, 0.0]"
   ]
  },
  {
   "cell_type": "code",
   "execution_count": 31,
   "metadata": {
    "ExecuteTime": {
     "end_time": "2018-01-30T10:41:38.875000-05:00",
     "start_time": "2018-01-30T15:41:38.871Z"
    }
   },
   "outputs": [
    {
     "data": {
      "text/plain": [
       "(::ParameterizedFunction) (generic function with 2 methods)"
      ]
     },
     "execution_count": 31,
     "metadata": {},
     "output_type": "execute_result"
    }
   ],
   "source": [
    "ssn = ParameterizedFunction(ssn_ode, SSNParam(\n",
    "    w,\n",
    "    h,    \n",
    "    τ,\n",
    "    -70.0,   # V_rest\n",
    "    0.01,  # k\n",
    "    2.2   # n\n",
    "))"
   ]
  },
  {
   "cell_type": "code",
   "execution_count": 32,
   "metadata": {
    "ExecuteTime": {
     "end_time": "2018-01-30T10:41:40.396000-05:00",
     "start_time": "2018-01-30T15:41:40.391Z"
    }
   },
   "outputs": [
    {
     "data": {
      "text/plain": [
       "DiffEqBase.ODEProblem with uType Array{Float64,1} and tType Float64. In-place: true\n",
       "timespan: (0.0, 2.0)\n",
       "u0: [-80.0, 60.0, 80.0, 40.0]"
      ]
     },
     "execution_count": 32,
     "metadata": {},
     "output_type": "execute_result"
    }
   ],
   "source": [
    "#ode = ODEProblem(ssn, ones(4), (0.0, 5.0))\n",
    "ode = ODEProblem(ssn, [-80.0, 60.0, 80.0, 40.0], (0.0, 2.0))"
   ]
  },
  {
   "cell_type": "code",
   "execution_count": 33,
   "metadata": {
    "ExecuteTime": {
     "end_time": "2018-01-30T10:41:41.065000-05:00",
     "start_time": "2018-01-30T15:41:41.031Z"
    }
   },
   "outputs": [],
   "source": [
    "sol = solve(ode, verbose=true);"
   ]
  },
  {
   "cell_type": "code",
   "execution_count": 34,
   "metadata": {
    "ExecuteTime": {
     "end_time": "2018-01-30T10:41:41.988000-05:00",
     "start_time": "2018-01-30T15:41:41.586Z"
    },
    "scrolled": true
   },
   "outputs": [
    {
     "data": {
      "text/html": [
       "<img src=\"data:image/png;base64,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\" />"
      ]
     },
     "execution_count": 34,
     "metadata": {},
     "output_type": "execute_result"
    }
   ],
   "source": [
    "plot(sol, vars=[1, 2, 3, 4])"
   ]
  },
  {
   "cell_type": "code",
   "execution_count": null,
   "metadata": {
    "ExecuteTime": {
     "end_time": "2018-01-18T16:32:46.887000-05:00",
     "start_time": "2018-01-18T21:32:46.872Z"
    }
   },
   "outputs": [],
   "source": [
    "workspace() "
   ]
  },
  {
   "cell_type": "code",
   "execution_count": null,
   "metadata": {},
   "outputs": [],
   "source": []
  }
 ],
 "metadata": {
  "kernelspec": {
   "display_name": "Julia 0.6.1",
   "language": "julia",
   "name": "julia-0.6"
  },
  "language_info": {
   "file_extension": ".jl",
   "mimetype": "application/julia",
   "name": "julia",
   "version": "0.6.1"
  },
  "toc": {
   "nav_menu": {},
   "number_sections": true,
   "sideBar": true,
   "skip_h1_title": false,
   "toc_cell": false,
   "toc_position": {},
   "toc_section_display": "block",
   "toc_window_display": false
  }
 },
 "nbformat": 4,
 "nbformat_minor": 2
}
