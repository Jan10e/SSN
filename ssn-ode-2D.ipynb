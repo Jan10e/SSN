{
 "cells": [
  {
   "cell_type": "code",
   "execution_count": 89,
   "metadata": {
    "ExecuteTime": {
     "end_time": "2018-01-18T17:07:08.439000-05:00",
     "start_time": "2018-01-18T22:07:08.433Z"
    }
   },
   "outputs": [
    {
     "data": {
      "text/plain": [
       "ssn_ode (generic function with 1 method)"
      ]
     },
     "execution_count": 89,
     "metadata": {},
     "output_type": "execute_result"
    }
   ],
   "source": [
    "using DifferentialEquations\n",
    "using ParameterizedFunctions\n",
    "using Plots\n",
    "\n",
    "type SSNParam\n",
    "    w\n",
    "    h\n",
    "    τ\n",
    "    V_rest\n",
    "    k\n",
    "    n\n",
    "end\n",
    "\n",
    "ReLU(x) = x < 0.0 ? 0.0 : x\n",
    "\n",
    "function ssn_ode(t, u, param, du)\n",
    "    w = param.w\n",
    "    h = param.h\n",
    "    τ = param.τ\n",
    "    V_rest = param.V_rest\n",
    "    k = param.k\n",
    "    n = param.n\n",
    "    du .= ((- u .+ V_rest) .+ w * (k .* ReLU.(u .- V_rest).^n) .+ h) ./ τ\n",
    "end"
   ]
  },
  {
   "cell_type": "code",
   "execution_count": 90,
   "metadata": {
    "ExecuteTime": {
     "end_time": "2018-01-18T17:07:09.126000-05:00",
     "start_time": "2018-01-18T22:07:09.122Z"
    }
   },
   "outputs": [
    {
     "data": {
      "text/plain": [
       "2×2 Array{Float64,2}:\n",
       " 1.25  -0.65\n",
       " 1.2   -0.5 "
      ]
     },
     "execution_count": 90,
     "metadata": {},
     "output_type": "execute_result"
    }
   ],
   "source": [
    "w = [1.25 -.65\n",
    "    1.2 -0.5]"
   ]
  },
  {
   "cell_type": "code",
   "execution_count": 97,
   "metadata": {
    "ExecuteTime": {
     "end_time": "2018-01-24T18:03:20.059000-05:00",
     "start_time": "2018-01-24T23:03:19.776Z"
    }
   },
   "outputs": [
    {
     "data": {
      "text/plain": [
       "2-element Array{Float64,1}:\n",
       " 0.02\n",
       " 0.01"
      ]
     },
     "execution_count": 97,
     "metadata": {},
     "output_type": "execute_result"
    }
   ],
   "source": [
    "#τ = [1, 0.1] #This gives instable behavior\n",
    "τ = [0.02, 0.01]"
   ]
  },
  {
   "cell_type": "code",
   "execution_count": 98,
   "metadata": {
    "ExecuteTime": {
     "end_time": "2018-01-24T18:03:20.784000-05:00",
     "start_time": "2018-01-24T23:03:20.777Z"
    }
   },
   "outputs": [
    {
     "data": {
      "text/plain": [
       "2-element Array{Float64,1}:\n",
       " 0.0\n",
       " 0.0"
      ]
     },
     "execution_count": 98,
     "metadata": {},
     "output_type": "execute_result"
    }
   ],
   "source": [
    "h = [0.0, 0.0]"
   ]
  },
  {
   "cell_type": "code",
   "execution_count": 99,
   "metadata": {
    "ExecuteTime": {
     "end_time": "2018-01-24T18:03:21.314000-05:00",
     "start_time": "2018-01-24T23:03:21.289Z"
    }
   },
   "outputs": [
    {
     "data": {
      "text/plain": [
       "(::ParameterizedFunction) (generic function with 2 methods)"
      ]
     },
     "execution_count": 99,
     "metadata": {},
     "output_type": "execute_result"
    }
   ],
   "source": [
    "ssn = ParameterizedFunction(ssn_ode, SSNParam(\n",
    "    w,\n",
    "    h,    \n",
    "    τ,\n",
    "    -70.0,   # V_rest\n",
    "    0.3,  # k\n",
    "    2   # n\n",
    "))"
   ]
  },
  {
   "cell_type": "code",
   "execution_count": 100,
   "metadata": {
    "ExecuteTime": {
     "end_time": "2018-01-24T18:03:21.804000-05:00",
     "start_time": "2018-01-24T23:03:21.792Z"
    }
   },
   "outputs": [
    {
     "data": {
      "text/plain": [
       "DiffEqBase.ODEProblem with uType Array{Float64,1} and tType Float64. In-place: true\n",
       "timespan: (0.0, 2.0)\n",
       "u0: [-80.0, 60.0]"
      ]
     },
     "execution_count": 100,
     "metadata": {},
     "output_type": "execute_result"
    }
   ],
   "source": [
    "#ode = ODEProblem(ssn, ones(2), (0.0, 5.0))\n",
    "ode = ODEProblem(ssn, [-80.0, 60.0], (0.0, 2.0))"
   ]
  },
  {
   "cell_type": "code",
   "execution_count": 101,
   "metadata": {
    "ExecuteTime": {
     "end_time": "2018-01-24T18:03:22.506000-05:00",
     "start_time": "2018-01-24T23:03:22.437Z"
    }
   },
   "outputs": [],
   "source": [
    "sol = solve(ode, verbose=true);"
   ]
  },
  {
   "cell_type": "code",
   "execution_count": 102,
   "metadata": {
    "ExecuteTime": {
     "end_time": "2018-01-24T18:03:28.993000-05:00",
     "start_time": "2018-01-24T23:03:28.159Z"
    },
    "scrolled": true
   },
   "outputs": [
    {
     "data": {
      "text/html": [
       "<img src=\"data:image/png;base64,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\" />"
      ]
     },
     "execution_count": 102,
     "metadata": {},
     "output_type": "execute_result"
    }
   ],
   "source": [
    "plot(sol, vars=[1, 2])"
   ]
  },
  {
   "cell_type": "code",
   "execution_count": null,
   "metadata": {
    "ExecuteTime": {
     "end_time": "2018-01-18T16:32:46.887000-05:00",
     "start_time": "2018-01-18T21:32:46.872Z"
    }
   },
   "outputs": [],
   "source": [
    "workspace() "
   ]
  },
  {
   "cell_type": "code",
   "execution_count": null,
   "metadata": {},
   "outputs": [],
   "source": []
  }
 ],
 "metadata": {
  "kernelspec": {
   "display_name": "Julia 0.6.1",
   "language": "julia",
   "name": "julia-0.6"
  },
  "language_info": {
   "file_extension": ".jl",
   "mimetype": "application/julia",
   "name": "julia",
   "version": "0.6.1"
  },
  "toc": {
   "nav_menu": {},
   "number_sections": true,
   "sideBar": true,
   "skip_h1_title": false,
   "toc_cell": false,
   "toc_position": {},
   "toc_section_display": "block",
   "toc_window_display": false
  }
 },
 "nbformat": 4,
 "nbformat_minor": 2
}
