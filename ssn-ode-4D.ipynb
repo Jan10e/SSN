{
 "cells": [
  {
   "cell_type": "code",
   "execution_count": 1,
   "metadata": {
    "ExecuteTime": {
     "end_time": "2018-01-29T14:02:06.455000-05:00",
     "start_time": "2018-01-29T19:01:47.906Z"
    }
   },
   "outputs": [
    {
     "data": {
      "text/plain": [
       "ssn_ode (generic function with 1 method)"
      ]
     },
     "execution_count": 1,
     "metadata": {},
     "output_type": "execute_result"
    }
   ],
   "source": [
    "using DifferentialEquations\n",
    "using ParameterizedFunctions\n",
    "using Plots\n",
    "\n",
    "type SSNParam\n",
    "    w\n",
    "    h\n",
    "    τ\n",
    "    V_rest\n",
    "    k\n",
    "    n\n",
    "end\n",
    "\n",
    "ReLU(x) = x < 0.0 ? 0.0 : x\n",
    "\n",
    "function ssn_ode(t, u, param, du)\n",
    "    w = param.w\n",
    "    h = param.h\n",
    "    τ = param.τ\n",
    "    V_rest = param.V_rest\n",
    "    k = param.k\n",
    "    n = param.n\n",
    "    du .= ((- u .+ V_rest) .+ w * (k .* ReLU.(u .- V_rest).^n) .+ h) ./ τ\n",
    "end"
   ]
  },
  {
   "cell_type": "code",
   "execution_count": 2,
   "metadata": {
    "ExecuteTime": {
     "end_time": "2018-01-29T14:04:08.725000-05:00",
     "start_time": "2018-01-29T19:04:07.802Z"
    }
   },
   "outputs": [
    {
     "data": {
      "text/plain": [
       "4×4 Array{Float64,2}:\n",
       " 0.017   -0.956  -0.045  -0.512\n",
       " 0.8535  -0.99   -0.09   -0.307\n",
       " 2.104   -0.184   0.0    -0.734\n",
       " 1.285    0.0    -0.14    0.0  "
      ]
     },
     "execution_count": 2,
     "metadata": {},
     "output_type": "execute_result"
    }
   ],
   "source": [
    "w = [.017 -.956 -.045 -.512\n",
    "    .8535 -.99 -.09 -.307\n",
    "    2.104 -.184 0 -.734\n",
    "    1.285 0 -.14 0]"
   ]
  },
  {
   "cell_type": "code",
   "execution_count": 3,
   "metadata": {
    "ExecuteTime": {
     "end_time": "2018-01-29T14:04:11.399000-05:00",
     "start_time": "2018-01-29T19:04:10.911Z"
    }
   },
   "outputs": [
    {
     "data": {
      "text/plain": [
       "4-element Array{Float64,1}:\n",
       " 0.02\n",
       " 0.01\n",
       " 0.01\n",
       " 0.01"
      ]
     },
     "execution_count": 3,
     "metadata": {},
     "output_type": "execute_result"
    }
   ],
   "source": [
    "τ = [0.02, 0.01, 0.01, 0.01]"
   ]
  },
  {
   "cell_type": "code",
   "execution_count": 4,
   "metadata": {
    "ExecuteTime": {
     "end_time": "2018-01-29T14:04:13.676000-05:00",
     "start_time": "2018-01-29T19:04:13.672Z"
    }
   },
   "outputs": [
    {
     "data": {
      "text/plain": [
       "4-element Array{Float64,1}:\n",
       " 0.0\n",
       " 0.0\n",
       " 0.0\n",
       " 0.0"
      ]
     },
     "execution_count": 4,
     "metadata": {},
     "output_type": "execute_result"
    }
   ],
   "source": [
    "h = [0.0, 0.0, 0.0, 0.0]"
   ]
  },
  {
   "cell_type": "code",
   "execution_count": 5,
   "metadata": {
    "ExecuteTime": {
     "end_time": "2018-01-29T14:04:19.729000-05:00",
     "start_time": "2018-01-29T19:04:19.636Z"
    }
   },
   "outputs": [
    {
     "data": {
      "text/plain": [
       "(::ParameterizedFunction) (generic function with 2 methods)"
      ]
     },
     "execution_count": 5,
     "metadata": {},
     "output_type": "execute_result"
    }
   ],
   "source": [
    "ssn = ParameterizedFunction(ssn_ode, SSNParam(\n",
    "    w,\n",
    "    h,    \n",
    "    τ,\n",
    "    -70.0,   # V_rest\n",
    "    0.3,  # k\n",
    "    2   # n\n",
    "))"
   ]
  },
  {
   "cell_type": "code",
   "execution_count": 10,
   "metadata": {
    "ExecuteTime": {
     "end_time": "2018-01-29T14:58:13.406000-05:00",
     "start_time": "2018-01-29T19:58:13.239Z"
    }
   },
   "outputs": [
    {
     "data": {
      "text/plain": [
       "DiffEqBase.ODEProblem with uType Array{Float64,1} and tType Float64. In-place: true\n",
       "timespan: (0.0, 2.0)\n",
       "u0: [-80.0, 60.0, 60.0, 60.0]"
      ]
     },
     "execution_count": 10,
     "metadata": {},
     "output_type": "execute_result"
    }
   ],
   "source": [
    "#ode = ODEProblem(ssn, ones(2), (0.0, 5.0))\n",
    "ode = ODEProblem(ssn, [-80.0, 60.0, 60.0, 60.0], (0.0, 2.0))"
   ]
  },
  {
   "cell_type": "code",
   "execution_count": 11,
   "metadata": {
    "ExecuteTime": {
     "end_time": "2018-01-29T14:58:16.549000-05:00",
     "start_time": "2018-01-29T19:58:15.275Z"
    }
   },
   "outputs": [],
   "source": [
    "sol = solve(ode, verbose=true);"
   ]
  },
  {
   "cell_type": "code",
   "execution_count": 12,
   "metadata": {
    "ExecuteTime": {
     "end_time": "2018-01-29T14:58:17.723000-05:00",
     "start_time": "2018-01-29T19:58:17.315Z"
    },
    "scrolled": true
   },
   "outputs": [
    {
     "data": {
      "text/html": [
       "<img src=\"data:image/png;base64,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\" />"
      ]
     },
     "execution_count": 12,
     "metadata": {},
     "output_type": "execute_result"
    }
   ],
   "source": [
    "plot(sol, vars=[1, 2, 3, 4])"
   ]
  },
  {
   "cell_type": "code",
   "execution_count": null,
   "metadata": {
    "ExecuteTime": {
     "end_time": "2018-01-18T16:32:46.887000-05:00",
     "start_time": "2018-01-18T21:32:46.872Z"
    }
   },
   "outputs": [],
   "source": [
    "workspace() "
   ]
  },
  {
   "cell_type": "code",
   "execution_count": null,
   "metadata": {},
   "outputs": [],
   "source": []
  }
 ],
 "metadata": {
  "kernelspec": {
   "display_name": "Julia 0.6.1",
   "language": "julia",
   "name": "julia-0.6"
  },
  "language_info": {
   "file_extension": ".jl",
   "mimetype": "application/julia",
   "name": "julia",
   "version": "0.6.1"
  },
  "toc": {
   "nav_menu": {},
   "number_sections": true,
   "sideBar": true,
   "skip_h1_title": false,
   "toc_cell": false,
   "toc_position": {},
   "toc_section_display": "block",
   "toc_window_display": false
  }
 },
 "nbformat": 4,
 "nbformat_minor": 2
}
