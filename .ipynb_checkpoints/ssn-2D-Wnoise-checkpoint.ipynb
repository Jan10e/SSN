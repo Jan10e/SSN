{
 "cells": [
  {
   "cell_type": "code",
   "execution_count": 1,
   "metadata": {
    "ExecuteTime": {
     "end_time": "2018-01-22T10:51:03.195000-05:00",
     "start_time": "2018-01-22T15:50:44.996Z"
    }
   },
   "outputs": [
    {
     "data": {
      "text/plain": [
       "ssn_ode (generic function with 1 method)"
      ]
     },
     "execution_count": 1,
     "metadata": {},
     "output_type": "execute_result"
    }
   ],
   "source": [
    "using DifferentialEquations\n",
    "using ParameterizedFunctions\n",
    "using Plots\n",
    "\n",
    "type SSNParam\n",
    "    w\n",
    "    h\n",
    "    τ\n",
    "    V_rest\n",
    "    k\n",
    "    n\n",
    "    η\n",
    "end\n",
    "\n",
    "ReLU(x) = x < 0.0 ? 0.0 : x\n",
    "\n",
    "function ssn_ode(t, u, param, du)\n",
    "    w = param.w\n",
    "    h = param.h\n",
    "    τ = param.τ\n",
    "    V_rest = param.V_rest\n",
    "    k = param.k\n",
    "    n = param.n\n",
    "    η = param.η\n",
    "    du .= (((- u .+ V_rest) .+ w * (k .* ReLU.(u .- V_rest).^n) .+ h) ./ τ) + η\n",
    "end"
   ]
  },
  {
   "cell_type": "code",
   "execution_count": 2,
   "metadata": {
    "ExecuteTime": {
     "end_time": "2018-01-22T10:51:08.708000-05:00",
     "start_time": "2018-01-22T15:51:07.794Z"
    }
   },
   "outputs": [
    {
     "data": {
      "text/plain": [
       "2×2 Array{Float64,2}:\n",
       " 1.25  -0.65\n",
       " 1.2   -0.5 "
      ]
     },
     "execution_count": 2,
     "metadata": {},
     "output_type": "execute_result"
    }
   ],
   "source": [
    "w = [1.25 -.65\n",
    "    1.2 -0.5]"
   ]
  },
  {
   "cell_type": "code",
   "execution_count": 3,
   "metadata": {
    "ExecuteTime": {
     "end_time": "2018-01-22T10:51:10.108000-05:00",
     "start_time": "2018-01-22T15:51:09.618Z"
    }
   },
   "outputs": [
    {
     "data": {
      "text/plain": [
       "2-element Array{Float64,1}:\n",
       " 0.2\n",
       " 0.1"
      ]
     },
     "execution_count": 3,
     "metadata": {},
     "output_type": "execute_result"
    }
   ],
   "source": [
    "#τ = [1, 0.1] #This gives unstable behavior\n",
    "τ = [0.2, 0.1]"
   ]
  },
  {
   "cell_type": "code",
   "execution_count": 4,
   "metadata": {
    "ExecuteTime": {
     "end_time": "2018-01-22T10:51:15.871000-05:00",
     "start_time": "2018-01-22T15:51:15.868Z"
    }
   },
   "outputs": [
    {
     "data": {
      "text/plain": [
       "2-element Array{Float64,1}:\n",
       " 0.0\n",
       " 0.0"
      ]
     },
     "execution_count": 4,
     "metadata": {},
     "output_type": "execute_result"
    }
   ],
   "source": [
    "h = [0.0, 0.0]"
   ]
  },
  {
   "cell_type": "code",
   "execution_count": null,
   "metadata": {},
   "outputs": [],
   "source": [
    "#Noise term in covariance matrix\n",
    "type noiseParam\n",
    "    s_0\n",
    "    τ\n",
    "    δ\n",
    "end\n",
    "\n",
    "function noise_cov(t, σ_a, param, Σ_noise)\n",
    "    "
   ]
  },
  {
   "cell_type": "code",
   "execution_count": null,
   "metadata": {},
   "outputs": [],
   "source": [
    "# Input noise Std\n",
    "σ_0E = 0.2;     # input noise std. for E cells\n",
    "σ_0I = 0.1;     # input noise std. for I cells\n",
    "σ_0 = [s_0E; s_0I]; "
   ]
  },
  {
   "cell_type": "code",
   "execution_count": null,
   "metadata": {},
   "outputs": [],
   "source": [
    "# Membrane time constant\n",
    "τ_E = 20; #ms; membrane time constant (20ms for E)\n",
    "τ_I = 10; #ms; membrane time constant (10ms for I)\n",
    "τ = [(τ_E/100); (τ_I/100)];"
   ]
  },
  {
   "cell_type": "code",
   "execution_count": null,
   "metadata": {},
   "outputs": [],
   "source": [
    "# Covariance matrix\n",
    "\n",
    "# step 1: create noise amplitude for E and I to model the variance of the noise\n",
    "σ_a = σ_0.*sqrt(1+(tau/tau_noise));"
   ]
  },
  {
   "cell_type": "code",
   "execution_count": null,
   "metadata": {},
   "outputs": [],
   "source": [
    "#step 2: add the noise amplitude to the noise term Sigma^(noise)\n",
    "# d_ij =1 if i = j (feedforward?) and 0 otherwise (recurrent?)\n",
    "# as W = [w_EE w_EI; w_IE w_II]; , set EE and II to 0 and EI and IE to 1\n",
    "δ = [0 1; 1 0];\n",
    "\n",
    "Σ_noise = σ_a.^2.*δ;"
   ]
  },
  {
   "cell_type": "code",
   "execution_count": null,
   "metadata": {},
   "outputs": [],
   "source": [
    "#Wiener process\n",
    "Wien = WienerProcess(0.0,0.0,0.0) #Wiener process starts at 0.0 at time 0.0\n",
    "prob = SDEProblem(oup, u0, (0.0, 1.0), noise = Wien)\n",
    "sol = solve(prob, SRIW1())"
   ]
  },
  {
   "cell_type": "code",
   "execution_count": null,
   "metadata": {},
   "outputs": [],
   "source": [
    "#Ornstein-Uhlenbeck process for input noise\n",
    "type UOP_sdeParam\n",
    "    τ_noise\n",
    "    cov\n",
    "    Wien\n",
    "    dη\n",
    "    s_0\n",
    "    τ\n",
    "end\n",
    "\n",
    "function oup(t, η, param, dη)\n",
    "    τ_noise = param.τ_noise\n",
    "    cov = param.cov\n",
    "    Wien = param.Wien\n",
    "    dη = (-η*dt + sqrt(2 * τ_noise * cov) * dWien)/ τ_noise\n",
    "end"
   ]
  },
  {
   "cell_type": "code",
   "execution_count": null,
   "metadata": {},
   "outputs": [],
   "source": [
    "#Time constant\n",
    "τ_noise = 50;     # noise correlation time constant"
   ]
  },
  {
   "cell_type": "code",
   "execution_count": null,
   "metadata": {
    "ExecuteTime": {
     "end_time": "2018-01-19T13:38:59.417000-05:00",
     "start_time": "2018-01-19T18:38:59.320Z"
    }
   },
   "outputs": [],
   "source": [
    "ssn = ParameterizedFunction(ssn_ode, SSNParam(\n",
    "    w,\n",
    "    h,    \n",
    "    τ,\n",
    "    -70.0,   # V_rest\n",
    "    0.3,  # k\n",
    "    2   # n\n",
    "))\n",
    "# add oup sde"
   ]
  },
  {
   "cell_type": "code",
   "execution_count": null,
   "metadata": {
    "ExecuteTime": {
     "end_time": "2018-01-19T13:39:00.865000-05:00",
     "start_time": "2018-01-19T18:39:00.607Z"
    }
   },
   "outputs": [],
   "source": [
    "#ode = ODEProblem(ssn, ones(2), (0.0, 5.0))\n",
    "ode = ODEProblem(ssn, [-80.0, 60.0], (0.0, 2.0))"
   ]
  },
  {
   "cell_type": "code",
   "execution_count": null,
   "metadata": {
    "ExecuteTime": {
     "end_time": "2018-01-19T13:39:05.051000-05:00",
     "start_time": "2018-01-19T18:39:01.686Z"
    }
   },
   "outputs": [],
   "source": [
    "sol = solve(ode, verbose=true);"
   ]
  },
  {
   "cell_type": "code",
   "execution_count": null,
   "metadata": {
    "ExecuteTime": {
     "end_time": "2018-01-19T13:39:05.101000-05:00",
     "start_time": "2018-01-19T18:39:02.253Z"
    },
    "scrolled": true
   },
   "outputs": [],
   "source": [
    "plot(sol, vars=[1, 2])"
   ]
  },
  {
   "cell_type": "code",
   "execution_count": null,
   "metadata": {
    "ExecuteTime": {
     "end_time": "2018-01-18T16:32:46.887000-05:00",
     "start_time": "2018-01-18T21:32:46.872Z"
    }
   },
   "outputs": [],
   "source": [
    "workspace() "
   ]
  },
  {
   "cell_type": "code",
   "execution_count": null,
   "metadata": {},
   "outputs": [],
   "source": []
  }
 ],
 "metadata": {
  "kernelspec": {
   "display_name": "Julia 0.6.1",
   "language": "julia",
   "name": "julia-0.6"
  },
  "language_info": {
   "file_extension": ".jl",
   "mimetype": "application/julia",
   "name": "julia",
   "version": "0.6.1"
  },
  "toc": {
   "nav_menu": {},
   "number_sections": true,
   "sideBar": true,
   "skip_h1_title": false,
   "toc_cell": false,
   "toc_position": {},
   "toc_section_display": "block",
   "toc_window_display": false
  }
 },
 "nbformat": 4,
 "nbformat_minor": 2
}
