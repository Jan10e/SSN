{
 "cells": [
  {
   "cell_type": "code",
   "execution_count": 1,
   "metadata": {
    "ExecuteTime": {
     "end_time": "2017-12-13T22:51:01.485000-05:00",
     "start_time": "2017-12-14T03:50:56.321Z"
    }
   },
   "outputs": [
    {
     "data": {
      "text/plain": [
       "ssn_ode (generic function with 1 method)"
      ]
     },
     "execution_count": 1,
     "metadata": {},
     "output_type": "execute_result"
    }
   ],
   "source": [
    "using DifferentialEquations\n",
    "using ParameterizedFunctions\n",
    "\n",
    "type SSNParam\n",
    "    w\n",
    "    h\n",
    "    τ\n",
    "    k\n",
    "    n\n",
    "end\n",
    "\n",
    "ReLU(x) = x < 0.0 ? 0.0 : x\n",
    "\n",
    "function ssn_ode(t, u, param, du)\n",
    "    w = param.w\n",
    "    h = param.h\n",
    "    τ = param.τ\n",
    "    V_rest = param.V_rest\n",
    "    n = param.n\n",
    "    k = param.k\n",
    "    du .= (- u .+ w * (k .* ReLU.(u .- V_rest).^n) ./ τ\n",
    "end"
   ]
  },
  {
   "cell_type": "code",
   "execution_count": 2,
   "metadata": {
    "ExecuteTime": {
     "end_time": "2017-12-13T22:51:03.976000-05:00",
     "start_time": "2017-12-14T03:51:02.655Z"
    }
   },
   "outputs": [
    {
     "data": {
      "text/plain": [
       "2×2 Array{Int64,2}:\n",
       " 1  -3\n",
       " 1  -1"
      ]
     },
     "execution_count": 2,
     "metadata": {},
     "output_type": "execute_result"
    }
   ],
   "source": [
    "w = [1 -3\n",
    "     1 -1]"
   ]
  },
  {
   "cell_type": "code",
   "execution_count": 3,
   "metadata": {
    "ExecuteTime": {
     "end_time": "2017-12-13T22:51:05.048000-05:00",
     "start_time": "2017-12-14T03:51:04.512Z"
    }
   },
   "outputs": [
    {
     "data": {
      "text/plain": [
       "2-element Array{Float64,1}:\n",
       " 1.0\n",
       " 0.1"
      ]
     },
     "execution_count": 3,
     "metadata": {},
     "output_type": "execute_result"
    }
   ],
   "source": [
    "τ = [1, 0.1]"
   ]
  },
  {
   "cell_type": "code",
   "execution_count": 4,
   "metadata": {
    "ExecuteTime": {
     "end_time": "2017-12-13T22:51:07.319000-05:00",
     "start_time": "2017-12-14T03:51:07.316Z"
    }
   },
   "outputs": [
    {
     "data": {
      "text/plain": [
       "2-element Array{Float64,1}:\n",
       " 0.1\n",
       " 0.1"
      ]
     },
     "execution_count": 4,
     "metadata": {},
     "output_type": "execute_result"
    }
   ],
   "source": [
    "h = [0.1, 0.1]"
   ]
  },
  {
   "cell_type": "code",
   "execution_count": 5,
   "metadata": {
    "ExecuteTime": {
     "end_time": "2017-12-13T22:51:08.359000-05:00",
     "start_time": "2017-12-14T03:51:08.264Z"
    }
   },
   "outputs": [
    {
     "data": {
      "text/plain": [
       "(::ParameterizedFunction) (generic function with 2 methods)"
      ]
     },
     "execution_count": 5,
     "metadata": {},
     "output_type": "execute_result"
    }
   ],
   "source": [
    "ssn = ParameterizedFunction(ssn_ode, SSNParam(\n",
    "    w,\n",
    "    τ,\n",
    "    h,\n",
    "    -70, # V_rest\n",
    "    0.01,  # k\n",
    "    2.2,   # n\n",
    "))"
   ]
  },
  {
   "cell_type": "code",
   "execution_count": 6,
   "metadata": {
    "ExecuteTime": {
     "end_time": "2017-12-13T22:51:09.359000-05:00",
     "start_time": "2017-12-14T03:51:09.105Z"
    }
   },
   "outputs": [
    {
     "data": {
      "text/plain": [
       "DiffEqBase.ODEProblem with uType Array{Float64,1} and tType Float64. In-place: true\n",
       "timespan: (0.0, 5.0)\n",
       "u0: [1.0, 1.0]"
      ]
     },
     "execution_count": 6,
     "metadata": {},
     "output_type": "execute_result"
    }
   ],
   "source": [
    "ode = ODEProblem(ssn, ones(2), (0.0, 5.0))"
   ]
  },
  {
   "cell_type": "code",
   "execution_count": 7,
   "metadata": {
    "ExecuteTime": {
     "end_time": "2017-12-13T22:51:14.396000-05:00",
     "start_time": "2017-12-14T03:51:10.034Z"
    }
   },
   "outputs": [],
   "source": [
    "sol = solve(ode);"
   ]
  },
  {
   "cell_type": "code",
   "execution_count": 8,
   "metadata": {
    "ExecuteTime": {
     "end_time": "2017-12-13T22:51:27.029000-05:00",
     "start_time": "2017-12-14T03:51:15.224Z"
    }
   },
   "outputs": [],
   "source": [
    "using Plots"
   ]
  },
  {
   "cell_type": "code",
   "execution_count": 9,
   "metadata": {
    "ExecuteTime": {
     "end_time": "2017-12-13T22:51:52.224000-05:00",
     "start_time": "2017-12-14T03:51:27.832Z"
    }
   },
   "outputs": [
    {
     "data": {
      "text/html": [
       "<img src=\"data:image/png;base64,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\" />"
      ]
     },
     "execution_count": 9,
     "metadata": {},
     "output_type": "execute_result"
    }
   ],
   "source": [
    "plot(sol, vars=[1, 2])"
   ]
  },
  {
   "cell_type": "code",
   "execution_count": null,
   "metadata": {},
   "outputs": [],
   "source": []
  }
 ],
 "metadata": {
  "kernelspec": {
   "display_name": "Julia 0.6.1",
   "language": "julia",
   "name": "julia-0.6"
  },
  "language_info": {
   "file_extension": ".jl",
   "mimetype": "application/julia",
   "name": "julia",
   "version": "0.6.1"
  },
  "toc": {
   "nav_menu": {},
   "number_sections": true,
   "sideBar": true,
   "skip_h1_title": false,
   "toc_cell": false,
   "toc_position": {},
   "toc_section_display": "block",
   "toc_window_display": false
  }
 },
 "nbformat": 4,
 "nbformat_minor": 2
}
